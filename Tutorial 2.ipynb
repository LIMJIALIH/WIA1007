{
  "nbformat": 4,
  "nbformat_minor": 0,
  "metadata": {
    "colab": {
      "provenance": [],
      "authorship_tag": "ABX9TyPVCnN5FbE9yEQuCn+f0HeX",
      "include_colab_link": true
    },
    "kernelspec": {
      "name": "python3",
      "display_name": "Python 3"
    },
    "language_info": {
      "name": "python"
    }
  },
  "cells": [
    {
      "cell_type": "markdown",
      "metadata": {
        "id": "view-in-github",
        "colab_type": "text"
      },
      "source": [
        "<a href=\"https://colab.research.google.com/github/LIMJIALIH/WIA1007/blob/main/Tutorial%202.ipynb\" target=\"_parent\"><img src=\"https://colab.research.google.com/assets/colab-badge.svg\" alt=\"Open In Colab\"/></a>"
      ]
    },
    {
      "cell_type": "code",
      "execution_count": 10,
      "metadata": {
        "colab": {
          "base_uri": "https://localhost:8080/"
        },
        "id": "LNA6M1t9WY47",
        "outputId": "eea1aac6-01eb-4f8c-cefe-d8a311ee1ca5"
      },
      "outputs": [
        {
          "output_type": "stream",
          "name": "stdout",
          "text": [
            "\n",
            "[[0.08479523 0.61601775 0.73198958]\n",
            " [0.09721656 0.32096406 0.36373859]\n",
            " [0.67194452 0.93541895 0.93074917]]\n"
          ]
        }
      ],
      "source": [
        "        ##Tutorial 2\n",
        "#import numpy as np\n",
        "#import pandas as pd\n",
        "\n",
        "#arr = np.array([[1,2],[3,4]])\n",
        "#print(arr)\n",
        "\n",
        "#randArr = np.random.rand(3,4)\n",
        "#print(f'\\n{randArr}')\n",
        "\n",
        "#arrOne = np.ones((4,2))\n",
        "#print(f'\\n{arrOne}')\n",
        "\n",
        "#arrZero = np.zeros((4,2))\n",
        "#print(f'\\n{arrZero}')\n",
        "\n",
        "#newArray = np.random.rand(6,3)\n",
        "#print(f'\\n{newArray}')\n",
        "#arrTrans = newArray.T\n",
        "#print(f'\\n{arrTrans}')\n",
        "\n",
        "#arr1 = np.random.rand(3,2)\n",
        "#arr2 = np.random.rand(2,3)\n",
        "#dotProduct = arr1.dot(arr2)\n",
        "#print(f'\\n{dotProduct}')"
      ]
    }
  ]
}